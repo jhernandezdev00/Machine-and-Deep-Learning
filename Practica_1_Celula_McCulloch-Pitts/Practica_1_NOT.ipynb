{
 "cells": [
  {
   "cell_type": "code",
   "execution_count": 2,
   "metadata": {},
   "outputs": [],
   "source": [
    "import numpy as np"
   ]
  },
  {
   "cell_type": "code",
   "execution_count": 3,
   "metadata": {},
   "outputs": [],
   "source": [
    "## COMPUERTA NOT\n",
    "compuerta = \"NOT\"\n",
    "X = np.array([[0], [1]])\n",
    "Y = np.array([1, 0])"
   ]
  },
  {
   "cell_type": "code",
   "execution_count": 4,
   "metadata": {},
   "outputs": [],
   "source": [
    "w = np.random.rand(1)\n",
    "theta = np.random.rand()\n",
    "alpha = 0.1\n",
    "epochs = 20"
   ]
  },
  {
   "cell_type": "code",
   "execution_count": 5,
   "metadata": {},
   "outputs": [
    {
     "name": "stdout",
     "output_type": "stream",
     "text": [
      "Pesos iniciales: [0.18282231], Umbral inicial: 0.8030145624237875\n"
     ]
    }
   ],
   "source": [
    "print(f\"Pesos iniciales: {w}, Umbral inicial: {theta}\")"
   ]
  },
  {
   "cell_type": "code",
   "execution_count": 6,
   "metadata": {},
   "outputs": [
    {
     "name": "stdout",
     "output_type": "stream",
     "text": [
      "\n",
      "Época 1:\n",
      "Entrada: (0) -> Salida: 0, Esperado: 1\n",
      "Nuevo w: [0.18282231], Nuevo θ: 0.7030145624237876\n",
      "Entrada: (1) -> Salida: 0, Esperado: 0\n",
      "Nuevo w: [0.18282231], Nuevo θ: 0.7030145624237876\n",
      "\n",
      "Época 2:\n",
      "Entrada: (0) -> Salida: 0, Esperado: 1\n",
      "Nuevo w: [0.18282231], Nuevo θ: 0.6030145624237876\n",
      "Entrada: (1) -> Salida: 0, Esperado: 0\n",
      "Nuevo w: [0.18282231], Nuevo θ: 0.6030145624237876\n",
      "\n",
      "Época 3:\n",
      "Entrada: (0) -> Salida: 0, Esperado: 1\n",
      "Nuevo w: [0.18282231], Nuevo θ: 0.5030145624237876\n",
      "Entrada: (1) -> Salida: 0, Esperado: 0\n",
      "Nuevo w: [0.18282231], Nuevo θ: 0.5030145624237876\n",
      "\n",
      "Época 4:\n",
      "Entrada: (0) -> Salida: 0, Esperado: 1\n",
      "Nuevo w: [0.18282231], Nuevo θ: 0.40301456242378764\n",
      "Entrada: (1) -> Salida: 0, Esperado: 0\n",
      "Nuevo w: [0.18282231], Nuevo θ: 0.40301456242378764\n",
      "\n",
      "Época 5:\n",
      "Entrada: (0) -> Salida: 0, Esperado: 1\n",
      "Nuevo w: [0.18282231], Nuevo θ: 0.30301456242378766\n",
      "Entrada: (1) -> Salida: 0, Esperado: 0\n",
      "Nuevo w: [0.18282231], Nuevo θ: 0.30301456242378766\n",
      "\n",
      "Época 6:\n",
      "Entrada: (0) -> Salida: 0, Esperado: 1\n",
      "Nuevo w: [0.18282231], Nuevo θ: 0.20301456242378765\n",
      "Entrada: (1) -> Salida: 0, Esperado: 0\n",
      "Nuevo w: [0.18282231], Nuevo θ: 0.20301456242378765\n",
      "\n",
      "Época 7:\n",
      "Entrada: (0) -> Salida: 0, Esperado: 1\n",
      "Nuevo w: [0.18282231], Nuevo θ: 0.10301456242378765\n",
      "Entrada: (1) -> Salida: 1, Esperado: 0\n",
      "Nuevo w: [0.08282231], Nuevo θ: 0.20301456242378765\n",
      "\n",
      "Época 8:\n",
      "Entrada: (0) -> Salida: 0, Esperado: 1\n",
      "Nuevo w: [0.08282231], Nuevo θ: 0.10301456242378765\n",
      "Entrada: (1) -> Salida: 0, Esperado: 0\n",
      "Nuevo w: [0.08282231], Nuevo θ: 0.10301456242378765\n",
      "\n",
      "Época 9:\n",
      "Entrada: (0) -> Salida: 0, Esperado: 1\n",
      "Nuevo w: [0.08282231], Nuevo θ: 0.0030145624237876423\n",
      "Entrada: (1) -> Salida: 1, Esperado: 0\n",
      "Nuevo w: [-0.01717769], Nuevo θ: 0.10301456242378765\n",
      "\n",
      "Época 10:\n",
      "Entrada: (0) -> Salida: 0, Esperado: 1\n",
      "Nuevo w: [-0.01717769], Nuevo θ: 0.0030145624237876423\n",
      "Entrada: (1) -> Salida: 0, Esperado: 0\n",
      "Nuevo w: [-0.01717769], Nuevo θ: 0.0030145624237876423\n",
      "\n",
      "Época 11:\n",
      "Entrada: (0) -> Salida: 0, Esperado: 1\n",
      "Nuevo w: [-0.01717769], Nuevo θ: -0.09698543757621236\n",
      "Entrada: (1) -> Salida: 1, Esperado: 0\n",
      "Nuevo w: [-0.11717769], Nuevo θ: 0.0030145624237876423\n",
      "\n",
      "Época 12:\n",
      "Entrada: (0) -> Salida: 0, Esperado: 1\n",
      "Nuevo w: [-0.11717769], Nuevo θ: -0.09698543757621236\n",
      "Entrada: (1) -> Salida: 0, Esperado: 0\n",
      "Nuevo w: [-0.11717769], Nuevo θ: -0.09698543757621236\n",
      "\n",
      "Época 13:\n",
      "Entrada: (0) -> Salida: 1, Esperado: 1\n",
      "Nuevo w: [-0.11717769], Nuevo θ: -0.09698543757621236\n",
      "Entrada: (1) -> Salida: 0, Esperado: 0\n",
      "Nuevo w: [-0.11717769], Nuevo θ: -0.09698543757621236\n",
      "\n",
      "El entrenamiento ha convergido, deteniendo antes de completar todas las épocas.\n",
      "\n",
      "Entrenamiento finalizado.\n",
      "Peso final: [-0.11717769], Umbral final: -0.09698543757621236\n"
     ]
    }
   ],
   "source": [
    "for epoch in range(epochs):\n",
    "    prev_w = np.copy(w)\n",
    "    prev_theta = theta\n",
    "    print(f\"\\nÉpoca {epoch+1}:\")\n",
    "\n",
    "    for i in range(len(X)):\n",
    "        x = X[i][0]\n",
    "        y_deseado = Y[i]\n",
    "\n",
    "        y_salida = 1 if (w[0] * x) >= theta else 0\n",
    "\n",
    "        error = y_deseado - y_salida\n",
    "\n",
    "        w[0] += alpha * error * x\n",
    "        theta -= alpha * error\n",
    "        print(f\"Entrada: ({x}) -> Salida: {y_salida}, Esperado: {y_deseado}\")\n",
    "        print(f\"Nuevo w: {w}, Nuevo θ: {theta}\")\n",
    "\n",
    "    if np.array_equal(w, prev_w) and theta == prev_theta:\n",
    "        print(\"\\nEl entrenamiento ha convergido, deteniendo antes de completar todas las épocas.\")\n",
    "        break\n",
    "\n",
    "print(\"\\nEntrenamiento finalizado.\")\n",
    "print(f\"Peso final: {w}, Umbral final: {theta}\")"
   ]
  },
  {
   "cell_type": "code",
   "execution_count": 7,
   "metadata": {},
   "outputs": [
    {
     "name": "stdout",
     "output_type": "stream",
     "text": [
      "\n",
      "Evaluación Final:\n",
      "NOT (0) = 1\n",
      "NOT (1) = 0\n"
     ]
    }
   ],
   "source": [
    "print(\"\\nEvaluación Final:\")\n",
    "for i in range(len(X)):\n",
    "    x = X[i][0]\n",
    "    y_salida = 1 if (w[0] * x) >= theta else 0\n",
    "    print(f\"{compuerta} ({x}) = {y_salida}\")\n"
   ]
  }
 ],
 "metadata": {
  "kernelspec": {
   "display_name": "Python 3",
   "language": "python",
   "name": "python3"
  },
  "language_info": {
   "codemirror_mode": {
    "name": "ipython",
    "version": 3
   },
   "file_extension": ".py",
   "mimetype": "text/x-python",
   "name": "python",
   "nbconvert_exporter": "python",
   "pygments_lexer": "ipython3",
   "version": "3.12.8"
  }
 },
 "nbformat": 4,
 "nbformat_minor": 2
}
