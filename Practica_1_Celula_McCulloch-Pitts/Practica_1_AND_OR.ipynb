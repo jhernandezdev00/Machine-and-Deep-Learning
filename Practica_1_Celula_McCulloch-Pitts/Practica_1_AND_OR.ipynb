{
 "cells": [
  {
   "cell_type": "code",
   "execution_count": 12,
   "metadata": {},
   "outputs": [],
   "source": [
    "import numpy as np"
   ]
  },
  {
   "cell_type": "code",
   "execution_count": 13,
   "metadata": {},
   "outputs": [],
   "source": [
    "## COMPUERTA AND\n",
    "# compuerta = \"AND\"\n",
    "# X = np.array([[0, 0], [0, 1], [1, 0], [1, 1]])\n",
    "# Y = np.array([0, 0, 0, 1])\n",
    "\n",
    "# ## COMPUERTA OR\n",
    "compuerta = \"OR\"\n",
    "X = np.array([[0, 0], [0, 1], [1, 0], [1, 1]])\n",
    "Y = np.array([0, 1, 1, 1])"
   ]
  },
  {
   "cell_type": "code",
   "execution_count": 14,
   "metadata": {},
   "outputs": [],
   "source": [
    "w = np.random.rand(2)\n",
    "theta = np.random.rand()\n",
    "alpha = 0.1\n",
    "epochs = 10"
   ]
  },
  {
   "cell_type": "code",
   "execution_count": 15,
   "metadata": {},
   "outputs": [
    {
     "name": "stdout",
     "output_type": "stream",
     "text": [
      "Pesos iniciales: [0.58607776 0.59171854], Umbral inicial: 0.7418745620168984\n"
     ]
    }
   ],
   "source": [
    "print(f\"Pesos iniciales: {w}, Umbral inicial: {theta}\")"
   ]
  },
  {
   "cell_type": "code",
   "execution_count": 16,
   "metadata": {},
   "outputs": [
    {
     "name": "stdout",
     "output_type": "stream",
     "text": [
      "\n",
      "Época 1:\n",
      "Entrada: (0, 0) -> Salida: 0, Esperado: 0\n",
      "Nuevo w: [0.58607776 0.59171854], Nuevo θ: 0.7418745620168984\n",
      "Entrada: (0, 1) -> Salida: 0, Esperado: 1\n",
      "Nuevo w: [0.58607776 0.69171854], Nuevo θ: 0.6418745620168984\n",
      "Entrada: (1, 0) -> Salida: 0, Esperado: 1\n",
      "Nuevo w: [0.68607776 0.69171854], Nuevo θ: 0.5418745620168984\n",
      "Entrada: (1, 1) -> Salida: 1, Esperado: 1\n",
      "Nuevo w: [0.68607776 0.69171854], Nuevo θ: 0.5418745620168984\n",
      "\n",
      "Época 2:\n",
      "Entrada: (0, 0) -> Salida: 0, Esperado: 0\n",
      "Nuevo w: [0.68607776 0.69171854], Nuevo θ: 0.5418745620168984\n",
      "Entrada: (0, 1) -> Salida: 1, Esperado: 1\n",
      "Nuevo w: [0.68607776 0.69171854], Nuevo θ: 0.5418745620168984\n",
      "Entrada: (1, 0) -> Salida: 1, Esperado: 1\n",
      "Nuevo w: [0.68607776 0.69171854], Nuevo θ: 0.5418745620168984\n",
      "Entrada: (1, 1) -> Salida: 1, Esperado: 1\n",
      "Nuevo w: [0.68607776 0.69171854], Nuevo θ: 0.5418745620168984\n",
      "\n",
      "El entrenamiento ha convergido, deteniendo antes de completar todas las épocas.\n",
      "\n",
      "Entrenamiento finalizado.\n",
      "Pesos finales: [0.68607776 0.69171854], Umbral final: 0.5418745620168984\n"
     ]
    }
   ],
   "source": [
    "for epoch in range(epochs):\n",
    "    prev_w = np.copy(w)\n",
    "    prev_theta = theta\n",
    "    print(f\"\\nÉpoca {epoch+1}:\")\n",
    "\n",
    "    for i in range(len(X)):\n",
    "        x1, x2 = X[i]\n",
    "        y_deseado = Y[i]\n",
    "\n",
    "        y_salida = 1 if (w[0] * x1 + w[1] * x2) >= theta else 0\n",
    "\n",
    "        error = y_deseado - y_salida\n",
    "\n",
    "        w[0] += alpha * error * x1\n",
    "        w[1] += alpha * error * x2\n",
    "        theta -= alpha * error  # Ajuste del umbral\n",
    "\n",
    "        print(f\"Entrada: ({x1}, {x2}) -> Salida: {y_salida}, Esperado: {y_deseado}\")\n",
    "        print(f\"Nuevo w: {w}, Nuevo θ: {theta}\")\n",
    "\n",
    "    if np.array_equal(w, prev_w) and theta == prev_theta:\n",
    "        print(\"\\nEl entrenamiento ha convergido, deteniendo antes de completar todas las épocas.\")\n",
    "        break\n",
    "\n",
    "print(\"\\nEntrenamiento finalizado.\")\n",
    "print(f\"Pesos finales: {w}, Umbral final: {theta}\")"
   ]
  },
  {
   "cell_type": "code",
   "execution_count": 17,
   "metadata": {},
   "outputs": [
    {
     "name": "stdout",
     "output_type": "stream",
     "text": [
      "\n",
      "Evaluación Final:\n",
      "OR (0, 0) = 0\n",
      "OR (0, 1) = 1\n",
      "OR (1, 0) = 1\n",
      "OR (1, 1) = 1\n"
     ]
    }
   ],
   "source": [
    "print(\"\\nEvaluación Final:\")\n",
    "for i in range(len(X)):\n",
    "    x1, x2 = X[i]\n",
    "    y_salida = 1 if (w[0] * x1 + w[1] * x2) >= theta else 0\n",
    "    print(f\"{compuerta} ({x1}, {x2}) = {y_salida}\")"
   ]
  }
 ],
 "metadata": {
  "kernelspec": {
   "display_name": "Python 3",
   "language": "python",
   "name": "python3"
  },
  "language_info": {
   "codemirror_mode": {
    "name": "ipython",
    "version": 3
   },
   "file_extension": ".py",
   "mimetype": "text/x-python",
   "name": "python",
   "nbconvert_exporter": "python",
   "pygments_lexer": "ipython3",
   "version": "3.12.8"
  }
 },
 "nbformat": 4,
 "nbformat_minor": 2
}
