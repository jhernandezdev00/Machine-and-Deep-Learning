{
 "cells": [
  {
   "cell_type": "markdown",
   "metadata": {},
   "source": [
    "#### Universidad Autónoma de Aguascalientes\n",
    "#### Departamento: Ciencias de la Computación\n",
    "#### Carrera: Ingenieria en Computación Inteligente\n",
    "#### Curso: Machine Learning y Deep Learning \n",
    "#### Maestro: Dr. Francisco Javier Luna Rosas\n",
    "\n",
    "#### Alumno: Jorge Hernández\n",
    "#### Semestre: Enero - Junio del 2025"
   ]
  },
  {
   "cell_type": "markdown",
   "metadata": {},
   "source": [
    "##### Practica_X_Perceptron (Flor de Iris)"
   ]
  },
  {
   "cell_type": "code",
   "execution_count": 24,
   "metadata": {},
   "outputs": [],
   "source": [
    "import numpy as np\n",
    "import matplotlib.pyplot as plt\n",
    "import pandas as pd\n",
    "from sklearn.model_selection import train_test_split"
   ]
  },
  {
   "cell_type": "markdown",
   "metadata": {},
   "source": [
    "PASO 1: Importamos los datos del archivo con los datos de la flores, indicandole que tome como cabezera la primera linea que separe cada dato donde encuentre un punto y coma y que solo tome las primeras 100 columnas, debido a que solo \n",
    "trabajaremos con los dos primeros tipos de flores"
   ]
  },
  {
   "cell_type": "code",
   "execution_count": 25,
   "metadata": {},
   "outputs": [
    {
     "name": "stdout",
     "output_type": "stream",
     "text": [
      "     s.largo  s.ancho  p.largo  p.ancho       tipo\n",
      "0        5.1      3.5      1.4      0.2     setosa\n",
      "1        4.9      3.0      1.4      0.2     setosa\n",
      "2        4.7      3.2      1.3      0.2     setosa\n",
      "3        4.6      3.1      1.5      0.2     setosa\n",
      "4        5.0      3.6      1.4      0.2     setosa\n",
      "..       ...      ...      ...      ...        ...\n",
      "145      6.7      3.0      5.2      2.3  virginica\n",
      "146      6.3      2.5      5.0      1.9  virginica\n",
      "147      6.5      3.0      5.2      2.0  virginica\n",
      "148      6.2      3.4      5.4      2.3  virginica\n",
      "149      5.9      3.0      5.1      1.8  virginica\n",
      "\n",
      "[150 rows x 5 columns]\n"
     ]
    }
   ],
   "source": [
    "df_iris = pd.read_csv('../Data/iris.csv',header=0,sep=';')\n",
    "print(df_iris)"
   ]
  },
  {
   "cell_type": "code",
   "execution_count": 26,
   "metadata": {},
   "outputs": [
    {
     "name": "stdout",
     "output_type": "stream",
     "text": [
      "['setosa' 'setosa' 'setosa' 'setosa' 'setosa' 'setosa' 'setosa' 'setosa'\n",
      " 'setosa' 'setosa' 'setosa' 'setosa' 'setosa' 'setosa' 'setosa' 'setosa'\n",
      " 'setosa' 'setosa' 'setosa' 'setosa' 'setosa' 'setosa' 'setosa' 'setosa'\n",
      " 'setosa' 'setosa' 'setosa' 'setosa' 'setosa' 'setosa' 'setosa' 'setosa'\n",
      " 'setosa' 'setosa' 'setosa' 'setosa' 'setosa' 'setosa' 'setosa' 'setosa'\n",
      " 'setosa' 'setosa' 'setosa' 'setosa' 'setosa' 'setosa' 'setosa' 'setosa'\n",
      " 'setosa' 'setosa' 'versicolor' 'versicolor' 'versicolor' 'versicolor'\n",
      " 'versicolor' 'versicolor' 'versicolor' 'versicolor' 'versicolor'\n",
      " 'versicolor' 'versicolor' 'versicolor' 'versicolor' 'versicolor'\n",
      " 'versicolor' 'versicolor' 'versicolor' 'versicolor' 'versicolor'\n",
      " 'versicolor' 'versicolor' 'versicolor' 'versicolor' 'versicolor'\n",
      " 'versicolor' 'versicolor' 'versicolor' 'versicolor' 'versicolor'\n",
      " 'versicolor' 'versicolor' 'versicolor' 'versicolor' 'versicolor'\n",
      " 'versicolor' 'versicolor' 'versicolor' 'versicolor' 'versicolor'\n",
      " 'versicolor' 'versicolor' 'versicolor' 'versicolor' 'versicolor'\n",
      " 'versicolor' 'versicolor' 'versicolor' 'versicolor' 'versicolor'\n",
      " 'versicolor' 'virginica' 'virginica' 'virginica' 'virginica' 'virginica'\n",
      " 'virginica' 'virginica' 'virginica' 'virginica' 'virginica' 'virginica'\n",
      " 'virginica' 'virginica' 'virginica' 'virginica' 'virginica' 'virginica'\n",
      " 'virginica' 'virginica' 'virginica' 'virginica' 'virginica' 'virginica'\n",
      " 'virginica' 'virginica' 'virginica' 'virginica' 'virginica' 'virginica'\n",
      " 'virginica' 'virginica' 'virginica' 'virginica' 'virginica' 'virginica'\n",
      " 'virginica' 'virginica' 'virginica' 'virginica' 'virginica' 'virginica'\n",
      " 'virginica' 'virginica' 'virginica' 'virginica' 'virginica' 'virginica'\n",
      " 'virginica' 'virginica' 'virginica']\n",
      "[0 0 0 0 0 0 0 0 0 0 0 0 0 0 0 0 0 0 0 0 0 0 0 0 0 0 0 0 0 0 0 0 0 0 0 0 0\n",
      " 0 0 0 0 0 0 0 0 0 0 0 0 0 1 1 1 1 1 1 1 1 1 1 1 1 1 1 1 1 1 1 1 1 1 1 1 1\n",
      " 1 1 1 1 1 1 1 1 1 1 1 1 1 1 1 1 1 1 1 1 1 1 1 1 1 1 2 2 2 2 2 2 2 2 2 2 2\n",
      " 2 2 2 2 2 2 2 2 2 2 2 2 2 2 2 2 2 2 2 2 2 2 2 2 2 2 2 2 2 2 2 2 2 2 2 2 2\n",
      " 2 2]\n"
     ]
    },
    {
     "data": {
      "text/plain": [
       "array(['setosa', 'versicolor', 'virginica'], dtype=object)"
      ]
     },
     "execution_count": 26,
     "metadata": {},
     "output_type": "execute_result"
    }
   ],
   "source": [
    "from sklearn.preprocessing import LabelEncoder\n",
    "\n",
    "x = np.array(df_iris.iloc[:,0:4])\n",
    "y = df_iris[\"tipo\"].to_numpy()\n",
    "\n",
    "print(y)\n",
    "encoder = LabelEncoder()\n",
    "y = encoder.fit_transform(y)\n",
    "\n",
    "print(y)\n",
    "encoder.classes_"
   ]
  },
  {
   "cell_type": "markdown",
   "metadata": {},
   "source": [
    "PASO 3: Separaremos nuestros datos para utilizar una parte para pruebas y la otra para el entrenamiento \n"
   ]
  },
  {
   "cell_type": "code",
   "execution_count": 28,
   "metadata": {},
   "outputs": [],
   "source": [
    "xTrain, xTest, yTrain, yTest = train_test_split(x,y, train_size=0.75, random_state=0,test_size=0.2)"
   ]
  },
  {
   "cell_type": "markdown",
   "metadata": {},
   "source": [
    "PASO 4: Modelamos nuestra red"
   ]
  },
  {
   "cell_type": "code",
   "execution_count": 33,
   "metadata": {},
   "outputs": [],
   "source": [
    "from tensorflow.keras.models import Sequential\n",
    "from tensorflow.keras.layers import Dense"
   ]
  },
  {
   "cell_type": "code",
   "execution_count": 40,
   "metadata": {},
   "outputs": [
    {
     "name": "stderr",
     "output_type": "stream",
     "text": [
      "c:\\Users\\JORGE\\AppData\\Local\\Programs\\Python\\Python312\\Lib\\site-packages\\keras\\src\\layers\\core\\dense.py:87: UserWarning: Do not pass an `input_shape`/`input_dim` argument to a layer. When using Sequential models, prefer using an `Input(shape)` object as the first layer in the model instead.\n",
      "  super().__init__(activity_regularizer=activity_regularizer, **kwargs)\n"
     ]
    }
   ],
   "source": [
    "modelo = Sequential()\n",
    "\n",
    "modelo.add(Dense(units = 40, activation='relu', input_shape=(4,)))\n",
    "modelo.add(Dense(units = 20, activation='relu'))\n",
    "modelo.add(Dense(units = 3, activation='sigmoid'))\n",
    "\n",
    "modelo.compile(optimizer=\"adam\",\n",
    "               loss=\"sparse_categorical_crossentropy\",\n",
    "               metrics=['accuracy'])"
   ]
  },
  {
   "cell_type": "code",
   "execution_count": 50,
   "metadata": {},
   "outputs": [
    {
     "data": {
      "text/plain": [
       "<keras.src.callbacks.history.History at 0x1a845f8eff0>"
      ]
     },
     "execution_count": 50,
     "metadata": {},
     "output_type": "execute_result"
    }
   ],
   "source": [
    "modelo.fit(xTrain, yTrain, epochs=200, batch_size=16, verbose=0)"
   ]
  },
  {
   "cell_type": "code",
   "execution_count": 46,
   "metadata": {},
   "outputs": [
    {
     "name": "stdout",
     "output_type": "stream",
     "text": [
      "\u001b[1m1/1\u001b[0m \u001b[32m━━━━━━━━━━━━━━━━━━━━\u001b[0m\u001b[37m\u001b[0m \u001b[1m0s\u001b[0m 164ms/step - accuracy: 1.0000 - loss: 0.0194\n"
     ]
    }
   ],
   "source": [
    "loss, acc = modelo.evaluate(xTest,yTest, verbose=1)"
   ]
  },
  {
   "cell_type": "code",
   "execution_count": 51,
   "metadata": {},
   "outputs": [
    {
     "name": "stdout",
     "output_type": "stream",
     "text": [
      "1.0\n"
     ]
    }
   ],
   "source": [
    "print(acc)"
   ]
  },
  {
   "cell_type": "code",
   "execution_count": 52,
   "metadata": {},
   "outputs": [
    {
     "name": "stdout",
     "output_type": "stream",
     "text": [
      "\u001b[1m1/1\u001b[0m \u001b[32m━━━━━━━━━━━━━━━━━━━━\u001b[0m\u001b[37m\u001b[0m \u001b[1m0s\u001b[0m 67ms/step\n"
     ]
    },
    {
     "data": {
      "text/plain": [
       "array([[2.6899798e-09, 2.0246824e-02, 9.9874073e-01],\n",
       "       [2.1223852e-03, 9.8608452e-01, 5.9412606e-03],\n",
       "       [9.9999678e-01, 5.3573829e-01, 4.9429400e-07],\n",
       "       [5.4416565e-09, 9.8125547e-02, 9.9153990e-01],\n",
       "       [9.9998575e-01, 6.5966868e-01, 2.0983580e-06],\n",
       "       [6.7126665e-10, 1.8425217e-02, 9.9927324e-01],\n",
       "       [9.9998826e-01, 6.3796508e-01, 1.8750964e-06],\n",
       "       [5.2585183e-05, 9.7027969e-01, 2.5624221e-02],\n",
       "       [3.8876467e-05, 9.6252894e-01, 3.5496231e-02],\n",
       "       [9.5571781e-04, 9.8651195e-01, 5.8987928e-03],\n",
       "       [8.0624818e-07, 4.4267419e-01, 8.7181270e-01],\n",
       "       [9.9549208e-05, 9.7581536e-01, 1.8861359e-02],\n",
       "       [1.0630825e-04, 9.5638949e-01, 4.3679249e-02],\n",
       "       [3.0760253e-05, 9.4295430e-01, 6.1936852e-02],\n",
       "       [2.9984965e-05, 9.1106802e-01, 1.1877033e-01],\n",
       "       [9.9997932e-01, 6.9586897e-01, 2.5802879e-06],\n",
       "       [3.0283749e-05, 9.0672880e-01, 1.2179045e-01],\n",
       "       [1.6931386e-04, 9.3870723e-01, 6.8491817e-02],\n",
       "       [9.9996197e-01, 7.2291768e-01, 4.0919394e-06],\n",
       "       [9.9999440e-01, 6.0986733e-01, 8.3264132e-07],\n",
       "       [1.1387331e-07, 1.3991793e-01, 9.8155874e-01],\n",
       "       [5.1214109e-05, 9.0793318e-01, 1.3056807e-01],\n",
       "       [9.9996686e-01, 6.8179560e-01, 4.8622196e-06],\n",
       "       [9.9994355e-01, 6.9164252e-01, 7.8517187e-06],\n",
       "       [8.8988247e-07, 5.3458822e-01, 7.5117052e-01],\n",
       "       [9.9998748e-01, 5.4028368e-01, 2.4917426e-06],\n",
       "       [9.9996752e-01, 6.7533255e-01, 3.3191577e-06],\n",
       "       [3.9010186e-04, 9.8287916e-01, 9.9410126e-03],\n",
       "       [1.3264515e-02, 9.8269916e-01, 4.8446809e-03],\n",
       "       [9.9997205e-01, 7.0539665e-01, 3.3477306e-06]], dtype=float32)"
      ]
     },
     "execution_count": 52,
     "metadata": {},
     "output_type": "execute_result"
    }
   ],
   "source": [
    "pred = modelo.predict(xTest)\n",
    "pred[0:37]"
   ]
  },
  {
   "cell_type": "code",
   "execution_count": null,
   "metadata": {},
   "outputs": [
    {
     "name": "stdout",
     "output_type": "stream",
     "text": [
      "[2 1 0 2 0 2 0 1 1 1 2 1 1 1 1 0 1 1 0 0 2 1 0 0 2 0 0 1 1 0]\n",
      "[2 1 0 2 0 2 0 1 1 1 2 1 1 1 1 0 1 1 0 0 2 1 0 0 2 0 0 1 1 0]\n"
     ]
    }
   ],
   "source": [
    "y_pred_class = np.argmax(pred, axis=1)"
   ]
  },
  {
   "cell_type": "code",
   "execution_count": 57,
   "metadata": {},
   "outputs": [
    {
     "data": {
      "image/png": "[encoded data removed]",
      "text/plain": [
       "<Figure size 600x500 with 2 Axes>"
      ]
     },
     "metadata": {},
     "output_type": "display_data"
    }
   ],
   "source": [
    "import seaborn as sns\n",
    "import matplotlib.pyplot as plt\n",
    "from sklearn.metrics import confusion_matrix\n",
    "\n",
    "\n",
    "cm = confusion_matrix(yTest, y_pred_class)\n",
    "# Visualización de la matriz de confusión\n",
    "plt.figure(figsize=(6, 5))\n",
    "sns.heatmap(cm, annot=True, fmt=\"d\", cmap=\"Blues\", xticklabels=[\"Clase 0\", \"Clase 1\"], yticklabels=[\"Clase 0\", \"Clase 1\"])\n",
    "plt.xlabel(\"Predicción\")\n",
    "plt.ylabel(\"Real\")\n",
    "plt.title(\"Matriz de Confusión\")\n",
    "plt.show()"
   ]
  }
 ],
 "metadata": {
  "kernelspec": {
   "display_name": "Python 3",
   "language": "python",
   "name": "python3"
  },
  "language_info": {
   "codemirror_mode": {
    "name": "ipython",
    "version": 3
   },
   "file_extension": ".py",
   "mimetype": "text/x-python",
   "name": "python",
   "nbconvert_exporter": "python",
   "pygments_lexer": "ipython3",
   "version": "3.12.8"
  }
 },
 "nbformat": 4,
 "nbformat_minor": 2
}
