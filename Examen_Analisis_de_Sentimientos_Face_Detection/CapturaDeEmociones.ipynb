{
 "cells": [
  {
   "cell_type": "markdown",
   "metadata": {},
   "source": [
    "#### Universidad Autónoma de Aguascalientes\n",
    "#### Departamento: Ciencias de la Computación\n",
    "#### Carrera: Ingenieria en Computación Inteligente\n",
    "#### Curso: Machine Learning y Deep Learning \n",
    "#### Maestro: Dr. Francisco Javier Luna Rosas\n",
    "\n",
    "#### Alumno: Jorge Hernández\n",
    "#### Semestre: Enero - Junio del 2025"
   ]
  },
  {
   "cell_type": "code",
   "execution_count": 1,
   "metadata": {},
   "outputs": [],
   "source": [
    "# LIBRERIAS\n",
    "import cv2\n",
    "import math\n",
    "import mediapipe as mp\n",
    "import numpy as np\n",
    "import pandas as pd\n",
    "import os\n",
    "import mediapipe as mp"
   ]
  },
  {
   "cell_type": "code",
   "execution_count": 2,
   "metadata": {},
   "outputs": [],
   "source": [
    "Emociones = [\"Alegria\",\"Enojado\",\"Tristeza\",\"Sorprendido\",\"Neutral\"]\n",
    "direccion = \"../Examen_Analisis_de_Sentimientos_Face_Detection/Emociones\"\n",
    "cantidad_frame = 350"
   ]
  },
  {
   "cell_type": "code",
   "execution_count": 3,
   "metadata": {},
   "outputs": [],
   "source": [
    "for index in range(len(Emociones)):\n",
    "    try:\n",
    "        os.mkdir(direccion+\"/\"+Emociones[index])\n",
    "    except FileExistsError:\n",
    "        print(f\"❌ La Carpeta {Emociones[index]} Ya Existe\") \n"
   ]
  },
  {
   "cell_type": "code",
   "execution_count": 4,
   "metadata": {},
   "outputs": [],
   "source": [
    "values = []"
   ]
  },
  {
   "cell_type": "code",
   "execution_count": 5,
   "metadata": {},
   "outputs": [],
   "source": [
    "def calcular_distancias(punto1, punto2):\n",
    "    x1, y1, z1 = punto1.x, punto1.y, punto1.z\n",
    "    x2, y2, z2 = punto2.x, punto2.y, punto2.z\n",
    "\n",
    "    distancia = math.sqrt((x2 - x1)**2 + (y2 - y1)**2 + (z2 - z1)**2)\n",
    "    return distancia"
   ]
  },
  {
   "cell_type": "code",
   "execution_count": 6,
   "metadata": {},
   "outputs": [],
   "source": [
    "mp_face_mesh = mp.solutions.face_mesh\n",
    "mp_drawing = mp.solutions.drawing_utils\n",
    "\n",
    "face_mesh = mp_face_mesh.FaceMesh(max_num_faces=1, refine_landmarks=True)"
   ]
  },
  {
   "cell_type": "code",
   "execution_count": null,
   "metadata": {},
   "outputs": [],
   "source": [
    "def capturar_rostro(emocion,cantidad_frame,persona):\n",
    "\n",
    "    cap = cv2.VideoCapture(0,cv2.CAP_DSHOW)\n",
    "    faceClassif = cv2.CascadeClassifier(cv2.data.haarcascades + 'haarcascade_frontalface_default.xml')\n",
    "    count = 0\n",
    "\n",
    "    frame_width = int(cap.get(3))\n",
    "    frame_height = int(cap.get(4))\n",
    "    ref_x, ref_y, ref_w, ref_h = frame_width // 4, frame_height // 4, frame_width // 2, frame_height // 2\n",
    "\n",
    "    \n",
    "    while True:\n",
    "        ret, frame = cap.read()\n",
    "\n",
    "        if ret == False:\n",
    "            print(\"❌ ERROR EN LA CAPTURA DE IMAGEN\") \n",
    "            break\n",
    "\n",
    "        results = face_mesh.process(frame)\n",
    "        gray = cv2.cvtColor(frame, cv2.COLOR_BGR2GRAY)\n",
    "        auxFrame = frame.copy()\n",
    "\n",
    "\n",
    "        faces = faceClassif.detectMultiScale(gray,\n",
    "            scaleFactor=1.1,\n",
    "            minNeighbors=20,\n",
    "            minSize=(30,30),\n",
    "            maxSize=(500,500))\n",
    "        \n",
    "        cv2.rectangle(frame, (ref_x, ref_y), (ref_x + ref_w, ref_y + ref_h), (0, 0, 255), 2)  # Rojo si el rostro no está dentro\n",
    "\n",
    "\n",
    "        for (x,y,w,h) in faces:\n",
    "            \n",
    "            faces = sorted(faces, key=lambda x: x[2] * x[3], reverse=True)\n",
    "            x, y, w, h = faces[0]\n",
    "\n",
    "            cv2.rectangle(frame, (x,y), (x+w,y+h),(0,255,0),2)\n",
    "            cara = auxFrame[y:y+h,x:x+w]\n",
    "            cara = cv2.resize(cara,(150,150), interpolation=cv2.INTER_CUBIC)\n",
    "\n",
    "            cv2.putText(frame, f'Emocion: {emocion}: {count}', (10, 30), cv2.FONT_HERSHEY_SIMPLEX, 1, (255, 0, 0), 2, cv2.LINE_AA)\n",
    "\n",
    "            if x >= ref_x and y >= ref_y and (x + w) <= (ref_x + ref_w) and (y + h) <= (ref_y + ref_h):\n",
    "\n",
    "                count += 1\n",
    "                cv2.imwrite(direccion+\"/\"+emocion+\"/\"+emocion+\"_{}_{}.jpg\".format(count,persona),cara)\n",
    "                \n",
    "                if results.multi_face_landmarks:\n",
    "                    for face_landmarks in results.multi_face_landmarks:\n",
    "                        connection_drawing_spec = mp_drawing.DrawingSpec(color=(0, 0, 0), thickness=1)\n",
    "                        landmark_drawing_spec = mp_drawing.DrawingSpec(color=(0, 0, 0), thickness=0, circle_radius=0)\n",
    "\n",
    "                        mp_drawing.draw_landmarks(frame, face_landmarks,\n",
    "                                    connections=mp_face_mesh.FACEMESH_TESSELATION,\n",
    "                                    landmark_drawing_spec=landmark_drawing_spec,\n",
    "                                    connection_drawing_spec=connection_drawing_spec)\n",
    "\n",
    "                        # PUNTOS DE BOCA\n",
    "                        # Punto medio labio superior\n",
    "                        p13 = face_landmarks.landmark[13]\n",
    "                        # Punto medio labio inferior\n",
    "                        p14 = face_landmarks.landmark[14]\n",
    "\n",
    "                        # Punto externo izquierdo\n",
    "                        p61 = face_landmarks.landmark[61]\n",
    "                        # Punto extremo derecho\n",
    "                        p306 = face_landmarks.landmark[306]\n",
    "\n",
    "                        # PUNTOS DE CEJA\n",
    "                        # CEJA IZQUIERDA\n",
    "                        p65 = face_landmarks.landmark[65]\n",
    "                        # CEJA DERECHA\n",
    "                        p295 = face_landmarks.landmark[295]\n",
    "\n",
    "                        # PUNTOS DE OJO\n",
    "                        # OJO IZQUIERDO\n",
    "                        # PUNTO SUPERIOR\n",
    "                        p159 = face_landmarks.landmark[159]\n",
    "                        # PUNTO INFERIOR\n",
    "                        p145 = face_landmarks.landmark[145]\n",
    "\n",
    "                        # OJO DERECHO\n",
    "                        # PUNTO SUPERIOR\n",
    "                        p386 = face_landmarks.landmark[386]\n",
    "                        # PUNTO INFERIOR\n",
    "                        p374 = face_landmarks.landmark[374]\n",
    "                        \n",
    "                        Dist_Ojo_Izq = calcular_distancias(p65,p159)\n",
    "                        Dist_Ojo_Der = calcular_distancias(p295,p386)\n",
    "\n",
    "                        Aper_Ojo_Der = calcular_distancias(p386,p374)\n",
    "                        Aper_Ojo_Izq = calcular_distancias(p159,p145)\n",
    "\n",
    "                        Ancho_Boca = calcular_distancias(p61,p306)\n",
    "                        Apertura_Boca = calcular_distancias(p13,p14)\n",
    "\n",
    "                        values.append([persona,Dist_Ojo_Izq,Dist_Ojo_Der,Aper_Ojo_Der,Aper_Ojo_Izq,Ancho_Boca,Apertura_Boca,emocion])\n",
    "\n",
    "            else:\n",
    "                cv2.putText(frame, \"Posiciona tu rostro en el cuadro\", (ref_x, ref_y - 10), cv2.FONT_HERSHEY_SIMPLEX, 0.7, (0, 0, 255), 2)\n",
    "\n",
    "        cv2.imshow(\"Capturando...\", frame)\n",
    "        \n",
    "        if cv2.waitKey(1) & 0xFF == 27 or count>= cantidad_frame:  # Presiona 'Esc' para salir\n",
    "            break\n",
    "\n",
    "    cap.release()\n",
    "    cv2.destroyAllWindows()"
   ]
  },
  {
   "cell_type": "code",
   "execution_count": 8,
   "metadata": {},
   "outputs": [],
   "source": [
    "#Alegria\n",
    "capturar_rostro(Emociones[0],cantidad_frame,\"0\")"
   ]
  },
  {
   "cell_type": "code",
   "execution_count": 9,
   "metadata": {},
   "outputs": [],
   "source": [
    "#Enojado\n",
    "capturar_rostro(Emociones[1],cantidad_frame,\"0\")"
   ]
  },
  {
   "cell_type": "code",
   "execution_count": 10,
   "metadata": {},
   "outputs": [],
   "source": [
    "#Tristeza\n",
    "capturar_rostro(Emociones[2],cantidad_frame,\"0\")"
   ]
  },
  {
   "cell_type": "code",
   "execution_count": 11,
   "metadata": {},
   "outputs": [],
   "source": [
    "#Sorprendido\n",
    "capturar_rostro(Emociones[3],cantidad_frame,\"0\")"
   ]
  },
  {
   "cell_type": "code",
   "execution_count": 12,
   "metadata": {},
   "outputs": [],
   "source": [
    "#Neutral\n",
    "capturar_rostro(Emociones[4],cantidad_frame,\"0\")"
   ]
  },
  {
   "cell_type": "code",
   "execution_count": null,
   "metadata": {},
   "outputs": [
    {
     "name": "stdout",
     "output_type": "stream",
     "text": [
      "Archivo Generado.\n"
     ]
    }
   ],
   "source": [
    "df = pd.DataFrame(values, columns= [\"Sujeto\",\"Distancia Entre Ceja y Ojo Izquierdo\",\"Distancia Entre Ceja y Ojo Derecho\",\"Apertura de Ojo Derecho\",\"Apertura de Ojo Izquierdo\",\"Ancho de Boca\",\"Apertura de Boca\",\"Expresion\"])\n",
    "df.to_csv(\"data.csv\", index=False)\n",
    "print(\"Archivo Generado.\")"
   ]
  }
 ],
 "metadata": {
  "kernelspec": {
   "display_name": "Python 3",
   "language": "python",
   "name": "python3"
  },
  "language_info": {
   "codemirror_mode": {
    "name": "ipython",
    "version": 3
   },
   "file_extension": ".py",
   "mimetype": "text/x-python",
   "name": "python",
   "nbconvert_exporter": "python",
   "pygments_lexer": "ipython3",
   "version": "3.12.8"
  }
 },
 "nbformat": 4,
 "nbformat_minor": 2
}
